{
 "cells": [
  {
   "cell_type": "code",
   "execution_count": 0,
   "metadata": {
    "colab": {},
    "colab_type": "code",
    "id": "9b6H8Xrm7Q-T"
   },
   "outputs": [],
   "source": [
    "# Basic types of lists\n",
    "\n",
    "L = [] # Dynamic allocation\n",
    "Z = [15,8,9] # Static allocation\n",
    "\n",
    "print (Z[0])\n",
    "print (Z[2])"
   ]
  },
  {
   "cell_type": "code",
   "execution_count": 0,
   "metadata": {
    "colab": {},
    "colab_type": "code",
    "id": "q_LagvPo7eG6"
   },
   "outputs": [],
   "source": [
    "# Basic list example\n",
    "\n",
    "grades = [6,7,5,8,9]\n",
    "total = 0\n",
    "for n in range (0,5):\n",
    "    total += grades[n]\n",
    "mean = float(total)/5\n",
    "print(\"The average grade is %.2f\" %mean)"
   ]
  },
  {
   "cell_type": "code",
   "execution_count": 0,
   "metadata": {
    "colab": {},
    "colab_type": "code",
    "id": "WoIUVfcI8ZH6"
   },
   "outputs": [],
   "source": [
    "# List with input\n",
    "\n",
    "numbers = [0,0,0,0,0]\n",
    "for i in range (0,5):\n",
    "    numbers[i] = int(input(\"Number %d: \" %(i+1)))\n",
    "print(numbers)"
   ]
  },
  {
   "cell_type": "code",
   "execution_count": 0,
   "metadata": {
    "colab": {},
    "colab_type": "code",
    "id": "2ZKgAYKk8i4J"
   },
   "outputs": [],
   "source": [
    "# List Copying\n",
    "\n",
    "L = [1,2,3,4,5]\n",
    "print(L)\n",
    "\n",
    "V = L # Works as a pointer\n",
    "print(V)\n",
    "\n",
    "V[0] = 6\n",
    "print (V)\n",
    "print (L)"
   ]
  },
  {
   "cell_type": "code",
   "execution_count": 0,
   "metadata": {
    "colab": {},
    "colab_type": "code",
    "id": "E21AWdLV8462"
   },
   "outputs": [],
   "source": [
    "# Adding elements to a list\n",
    "\n",
    "F = []\n",
    "F.append(\"a\")\n",
    "print(F)\n",
    "\n",
    "F.append(\"b\")\n",
    "print(F)\n",
    "\n",
    "F.append(\"c\")\n",
    "print(F)"
   ]
  },
  {
   "cell_type": "code",
   "execution_count": 0,
   "metadata": {
    "colab": {},
    "colab_type": "code",
    "id": "jlC4wMpa9GhC"
   },
   "outputs": [],
   "source": [
    "# Adding elements to a list with input and while\n",
    "\n",
    "X = []\n",
    "num = int(input(\"Enter a number: \"))\n",
    "while num != 0:\n",
    "    X.append(num)\n",
    "    num = int(input(\"Enter a number: \"))\n",
    "print (X)"
   ]
  },
  {
   "cell_type": "code",
   "execution_count": 0,
   "metadata": {
    "colab": {},
    "colab_type": "code",
    "id": "skTpBADm9Q-1"
   },
   "outputs": [],
   "source": [
    "# Merging 2 lists into a third list\n",
    "\n",
    "X = []\n",
    "Y = []\n",
    "num_x = int(input(\"Enter a number to list X: \"))\n",
    "while num_x != 0:\n",
    "    X.append(num_x)\n",
    "    num_x = int(input(\"Enter a number to list X: \"))\n",
    "\n",
    "num_y = int(input(\"Enter a number to list Y: \"))\n",
    "while num_y != 0:\n",
    "    X.append(num_y)\n",
    "    num_y = int(input(\"Enter a number to list Y: \"))\n",
    "\n",
    "Z = X + Y\n",
    "print(Z)"
   ]
  },
  {
   "cell_type": "code",
   "execution_count": 0,
   "metadata": {
    "colab": {},
    "colab_type": "code",
    "id": "yTP9eGdL9xGo"
   },
   "outputs": [],
   "source": [
    "# Using while with list size\n",
    "\n",
    "\n",
    "Z = [1,2,3,4,5,6,7,8,9]\n",
    "x = 0\n",
    "while x < len(Z):\n",
    "    x += 1\n",
    "print(x)"
   ]
  }
 ],
 "metadata": {
  "colab": {
   "name": "lists.ipynb",
   "provenance": []
  },
  "kernelspec": {
   "display_name": "Python 3",
   "language": "python",
   "name": "python3"
  },
  "language_info": {
   "codemirror_mode": {
    "name": "ipython",
    "version": 3
   },
   "file_extension": ".py",
   "mimetype": "text/x-python",
   "name": "python",
   "nbconvert_exporter": "python",
   "pygments_lexer": "ipython3",
   "version": "3.7.0"
  }
 },
 "nbformat": 4,
 "nbformat_minor": 1
}
