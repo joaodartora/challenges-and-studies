{
  "nbformat": 4,
  "nbformat_minor": 0,
  "metadata": {
    "colab": {
      "name": "lists.ipynb",
      "provenance": []
    },
    "kernelspec": {
      "name": "python3",
      "display_name": "Python 3"
    }
  },
  "cells": [
    {
      "cell_type": "code",
      "metadata": {
        "id": "9b6H8Xrm7Q-T",
        "colab_type": "code",
        "colab": {}
      },
      "source": [
        "# Basic types of lists\n",
        "\n",
        "L = [] # Dynamic allocation\n",
        "Z = [15,8,9] # Static allocation\n",
        "\n",
        "print (Z[0])\n",
        "print (Z[2])"
      ],
      "execution_count": 0,
      "outputs": []
    },
    {
      "cell_type": "code",
      "metadata": {
        "id": "q_LagvPo7eG6",
        "colab_type": "code",
        "colab": {}
      },
      "source": [
        "# Basic list example\n",
        "\n",
        "grades = [6,7,5,8,9]\n",
        "total = 0\n",
        "for n in range (0,5):\n",
        "    total += grades[n]\n",
        "mean = float(total)/5\n",
        "print(\"The average grade is %.2f\" %mean)"
      ],
      "execution_count": 0,
      "outputs": []
    },
    {
      "cell_type": "code",
      "metadata": {
        "id": "WoIUVfcI8ZH6",
        "colab_type": "code",
        "colab": {}
      },
      "source": [
        "# List with input\n",
        "\n",
        "numbers = [0,0,0,0,0]\n",
        "for i in range (0,5):\n",
        "    numbers[i] = int(input(\"Number %d: \" %(i+1)))\n",
        "print(numbers)"
      ],
      "execution_count": 0,
      "outputs": []
    },
    {
      "cell_type": "code",
      "metadata": {
        "id": "2ZKgAYKk8i4J",
        "colab_type": "code",
        "colab": {}
      },
      "source": [
        "# List Copying\n",
        "\n",
        "L = [1,2,3,4,5]\n",
        "print(L)\n",
        "\n",
        "V = L # Works as a pointer\n",
        "print(V)\n",
        "\n",
        "V[0] = 6\n",
        "print (V)\n",
        "print (L)"
      ],
      "execution_count": 0,
      "outputs": []
    },
    {
      "cell_type": "code",
      "metadata": {
        "id": "E21AWdLV8462",
        "colab_type": "code",
        "colab": {}
      },
      "source": [
        "# Adding elements to a list\n",
        "\n",
        "F = []\n",
        "F.append(\"a\")\n",
        "print(F)\n",
        "\n",
        "F.append(\"b\")\n",
        "print(F)\n",
        "\n",
        "F.append(\"c\")\n",
        "print(F)"
      ],
      "execution_count": 0,
      "outputs": []
    },
    {
      "cell_type": "code",
      "metadata": {
        "id": "jlC4wMpa9GhC",
        "colab_type": "code",
        "colab": {}
      },
      "source": [
        "# Adding elements to a list with input and while\n",
        "\n",
        "X = []\n",
        "num = int(input(\"Enter a number: \"))\n",
        "while num != 0:\n",
        "    X.append(num)\n",
        "    num = int(input(\"Enter a number: \"))\n",
        "print (X)"
      ],
      "execution_count": 0,
      "outputs": []
    },
    {
      "cell_type": "code",
      "metadata": {
        "id": "skTpBADm9Q-1",
        "colab_type": "code",
        "colab": {}
      },
      "source": [
        "# Merging 2 lists into a third list\n",
        "\n",
        "X = []\n",
        "Y = []\n",
        "num_x = int(input(\"Enter a number to list X: \"))\n",
        "while num_x != 0:\n",
        "    X.append(num_x)\n",
        "    num_x = int(input(\"Enter a number to list X: \"))\n",
        "\n",
        "num_y = int(input(\"Enter a number to list Y: \"))\n",
        "while num_y != 0:\n",
        "    X.append(num_y)\n",
        "    num_y = int(input(\"Enter a number to list Y: \"))\n",
        "\n",
        "Z = X + Y\n",
        "print(Z)"
      ],
      "execution_count": 0,
      "outputs": []
    },
    {
      "cell_type": "code",
      "metadata": {
        "id": "yTP9eGdL9xGo",
        "colab_type": "code",
        "colab": {}
      },
      "source": [
        "# Using while with list size\n",
        "\n",
        "\n",
        "Z = [1,2,3,4,5,6,7,8,9]\n",
        "x = 0\n",
        "while x < len(Z):\n",
        "    x += 1\n",
        "print(x)"
      ],
      "execution_count": 0,
      "outputs": []
    }
  ]
}