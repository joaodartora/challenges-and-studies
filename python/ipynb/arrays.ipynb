{
  "nbformat": 4,
  "nbformat_minor": 0,
  "metadata": {
    "colab": {
      "name": "arrays.ipynb",
      "provenance": [],
      "collapsed_sections": []
    },
    "kernelspec": {
      "name": "python3",
      "display_name": "Python 3"
    }
  },
  "cells": [
    {
      "cell_type": "code",
      "metadata": {
        "id": "z9H9527-_T2Y",
        "colab_type": "code",
        "colab": {}
      },
      "source": [
        "# Importing numpy to work with arrays\n",
        "\n",
        "import numpy as np"
      ],
      "execution_count": 0,
      "outputs": []
    },
    {
      "cell_type": "code",
      "metadata": {
        "id": "OWGL5ZAfBIo-",
        "colab_type": "code",
        "colab": {}
      },
      "source": [
        "# Unidimensional array\n",
        "\n",
        "v1 = array([1,2,3,4,5,6,7,8,9,10])\n",
        "v1"
      ],
      "execution_count": 0,
      "outputs": []
    },
    {
      "cell_type": "code",
      "metadata": {
        "id": "MqrGbGk0BaIW",
        "colab_type": "code",
        "colab": {}
      },
      "source": [
        "# Multidimensional array\n",
        "\n",
        "m1 = array([[1,2],[3,4],[5,6]])\n",
        "m1"
      ],
      "execution_count": 0,
      "outputs": []
    }
  ]
}