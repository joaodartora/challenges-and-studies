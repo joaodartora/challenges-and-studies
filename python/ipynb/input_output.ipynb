{
 "cells": [
  {
   "cell_type": "code",
   "execution_count": 0,
   "metadata": {
    "colab": {},
    "colab_type": "code",
    "id": "es4Y3yoCWZb9"
   },
   "outputs": [],
   "source": [
    "# Basic Input\n",
    "\n",
    "x = input(\"Enter a number: \")\n",
    "print(x)"
   ]
  },
  {
   "cell_type": "code",
   "execution_count": 0,
   "metadata": {
    "colab": {},
    "colab_type": "code",
    "id": "0fIy_LLRXgYB"
   },
   "outputs": [],
   "source": [
    "# Input forcing string\n",
    "\n",
    "name = input(\"Enter your name: \")\n",
    "print (\"Hello, %s!\" %name)"
   ]
  },
  {
   "cell_type": "code",
   "execution_count": 0,
   "metadata": {
    "colab": {},
    "colab_type": "code",
    "id": "lVJ6wmmcXglQ"
   },
   "outputs": [],
   "source": [
    "# Handle data type on reading, calculating BMI (Body Mass Index)\n",
    "\n",
    "weight = float(input(\"Enter weight: \"))\n",
    "height = float(input(\"Enter height: \"))\n",
    "bmi = weight/(height*height)\n",
    "print(\"The BMI is: %.2f\" %bmi)"
   ]
  },
  {
   "cell_type": "code",
   "execution_count": 0,
   "metadata": {
    "colab": {},
    "colab_type": "code",
    "id": "srt5a716Xgw3"
   },
   "outputs": [],
   "source": [
    "# Handle data type on exit, calculating BMI (Body Mass Index)\n",
    "\n",
    "weight = input(\"Enter weight: \")\n",
    "height = input(\"Enter height: \")\n",
    "bmi = float(weight)/(float(height)*float(height))\n",
    "print(\"The BMI is: %.2f\" %bmi)"
   ]
  },
  {
   "cell_type": "code",
   "execution_count": 0,
   "metadata": {
    "colab": {},
    "colab_type": "code",
    "id": "MSzLhTjrXg8w"
   },
   "outputs": [],
   "source": [
    "# Calculation of lifetime lost by smoked cigarette\n",
    "\n",
    "cigarette_day = int(input(\"How many cigarettes do you smoke per day?\"))\n",
    "years = int(input(\"How long have you smoked (in years)?\"))\n",
    "smoked_cigarettes = (years * 365) * cigarette_day\n",
    "days_lost = (smoked_cigarettes * 10) / 1440\n",
    "print (\"You lost %d days on total\" %days_lost)"
   ]
  }
 ],
 "metadata": {
  "colab": {
   "name": "input-output.ipynb",
   "provenance": []
  },
  "kernelspec": {
   "display_name": "Python 3",
   "language": "python",
   "name": "python3"
  },
  "language_info": {
   "codemirror_mode": {
    "name": "ipython",
    "version": 3
   },
   "file_extension": ".py",
   "mimetype": "text/x-python",
   "name": "python",
   "nbconvert_exporter": "python",
   "pygments_lexer": "ipython3",
   "version": "3.7.0"
  }
 },
 "nbformat": 4,
 "nbformat_minor": 1
}
