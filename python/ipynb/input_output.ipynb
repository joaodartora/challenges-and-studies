{
  "nbformat": 4,
  "nbformat_minor": 0,
  "metadata": {
    "colab": {
      "name": "input-output.ipynb",
      "provenance": []
    },
    "kernelspec": {
      "name": "python3",
      "display_name": "Python 3"
    }
  },
  "cells": [
    {
      "cell_type": "code",
      "metadata": {
        "id": "es4Y3yoCWZb9",
        "colab_type": "code",
        "colab": {}
      },
      "source": [
        "# Basic Input\n",
        "\n",
        "x = input(\"Enter a number: \")\n",
        "print(x)"
      ],
      "execution_count": 0,
      "outputs": []
    },
    {
      "cell_type": "code",
      "metadata": {
        "id": "0fIy_LLRXgYB",
        "colab_type": "code",
        "colab": {}
      },
      "source": [
        "# Input forcing string\n",
        "\n",
        "name = input(\"Enter your name: \")\n",
        "print (\"Hello, %s!\" %name)"
      ],
      "execution_count": 0,
      "outputs": []
    },
    {
      "cell_type": "code",
      "metadata": {
        "id": "lVJ6wmmcXglQ",
        "colab_type": "code",
        "colab": {}
      },
      "source": [
        "# Handle data type on reading, calculating BMI (Body Mass Index)\n",
        "\n",
        "weight = float(input(\"Enter weight: \"))\n",
        "height = float(input(\"Enter height: \"))\n",
        "bmi = weight/(height*height)\n",
        "print(\"The BMI is: %.2f\" %bmi)"
      ],
      "execution_count": 0,
      "outputs": []
    },
    {
      "cell_type": "code",
      "metadata": {
        "id": "srt5a716Xgw3",
        "colab_type": "code",
        "colab": {}
      },
      "source": [
        "# Handle data type on exit, calculating BMI (Body Mass Index)\n",
        "\n",
        "weight = input(\"Enter weight: \")\n",
        "height = input(\"Enter height: \")\n",
        "bmi = float(weight)/(float(height)*float(height))\n",
        "print(\"The BMI is: %.2f\" %bmi)"
      ],
      "execution_count": 0,
      "outputs": []
    },
    {
      "cell_type": "code",
      "metadata": {
        "id": "MSzLhTjrXg8w",
        "colab_type": "code",
        "colab": {}
      },
      "source": [
        "# Calculation of lifetime lost by smoked cigarette\n",
        "\n",
        "cigarette_day = int(input(\"How many cigarettes do you smoke per day?\"))\n",
        "years = int(input(\"How long have you smoked (in years)?\"))\n",
        "smoked_cigarettes = (years * 365) * cigarette_day\n",
        "days_lost = (smoked_cigarettes * 10) / 1440\n",
        "print (\"You lost %d days on total\" %days_lost)"
      ],
      "execution_count": 0,
      "outputs": []
    }
  ]
}