{
  "nbformat": 4,
  "nbformat_minor": 0,
  "metadata": {
    "colab": {
      "name": "imports.ipynb",
      "provenance": [],
      "collapsed_sections": []
    },
    "kernelspec": {
      "name": "python3",
      "display_name": "Python 3"
    }
  },
  "cells": [
    {
      "cell_type": "code",
      "metadata": {
        "id": "P8cwe7n7BuoS",
        "colab_type": "code",
        "colab": {}
      },
      "source": [
        "# Import all lib\n",
        "\n",
        "from numpy import*"
      ],
      "execution_count": 0,
      "outputs": []
    },
    {
      "cell_type": "code",
      "metadata": {
        "id": "6yyOYs7GB38Q",
        "colab_type": "code",
        "colab": {}
      },
      "source": [
        "# Imports just a specific part of the lib and names it\n",
        "\n",
        "from numpy import random as rr "
      ],
      "execution_count": 0,
      "outputs": []
    },
    {
      "cell_type": "code",
      "metadata": {
        "id": "iM2CTddQB3-H",
        "colab_type": "code",
        "colab": {}
      },
      "source": [
        "# Imports the lib only in function\n",
        "\n",
        "import numpy as np\n",
        "\n",
        "np.random.rand(1)"
      ],
      "execution_count": 0,
      "outputs": []
    }
  ]
}