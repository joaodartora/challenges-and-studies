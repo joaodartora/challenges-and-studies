{
 "cells": [
  {
   "cell_type": "code",
   "execution_count": 0,
   "metadata": {
    "colab": {},
    "colab_type": "code",
    "id": "P8cwe7n7BuoS"
   },
   "outputs": [],
   "source": [
    "# Import all lib\n",
    "\n",
    "from numpy import*"
   ]
  },
  {
   "cell_type": "code",
   "execution_count": 0,
   "metadata": {
    "colab": {},
    "colab_type": "code",
    "id": "6yyOYs7GB38Q"
   },
   "outputs": [],
   "source": [
    "# Imports just a specific part of the lib and names it\n",
    "\n",
    "from numpy import random as rr "
   ]
  },
  {
   "cell_type": "code",
   "execution_count": 0,
   "metadata": {
    "colab": {},
    "colab_type": "code",
    "id": "iM2CTddQB3-H"
   },
   "outputs": [],
   "source": [
    "# Imports the lib only in function\n",
    "\n",
    "import numpy as np\n",
    "\n",
    "np.random.rand(1)"
   ]
  }
 ],
 "metadata": {
  "colab": {
   "collapsed_sections": [],
   "name": "imports.ipynb",
   "provenance": []
  },
  "kernelspec": {
   "display_name": "Python 3",
   "language": "python",
   "name": "python3"
  },
  "language_info": {
   "codemirror_mode": {
    "name": "ipython",
    "version": 3
   },
   "file_extension": ".py",
   "mimetype": "text/x-python",
   "name": "python",
   "nbconvert_exporter": "python",
   "pygments_lexer": "ipython3",
   "version": "3.7.0"
  }
 },
 "nbformat": 4,
 "nbformat_minor": 1
}
