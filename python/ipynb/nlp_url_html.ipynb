{
 "cells": [
  {
   "cell_type": "code",
   "execution_count": 0,
   "metadata": {
    "colab": {},
    "colab_type": "code",
    "id": "BeAOm-QWmKwp"
   },
   "outputs": [],
   "source": [
    "import nltk # Natural Language Toolkit\n",
    "import string # Works with strings\n",
    "\n",
    "from nltk.tokenize import sent_tokenize, word_tokenize # Word and sentence tokenizer\n",
    "from nltk.corpus import stopwords # Works with stopwords\n",
    "\n",
    "nltk.download('punkt') # Helps to divides a text into a list of sentences\n",
    "nltk.download('stopwords') # Helps to get stopwords"
   ]
  },
  {
   "cell_type": "code",
   "execution_count": 0,
   "metadata": {
    "colab": {},
    "colab_type": "code",
    "id": "3kUgY2otmQ9a"
   },
   "outputs": [],
   "source": [
    "# Example of word tokenizing\n",
    "\n",
    "data = \"Example of a sentence, which we will separate the words\"\n",
    "words = word_tokenize(data)\n",
    "print(words)"
   ]
  },
  {
   "cell_type": "code",
   "execution_count": 0,
   "metadata": {
    "colab": {},
    "colab_type": "code",
    "id": "xKqRsXWmmREs"
   },
   "outputs": [],
   "source": [
    "# Getting the working path\n",
    "\n",
    "import os\n",
    "print(os.getcwd())"
   ]
  },
  {
   "cell_type": "code",
   "execution_count": 0,
   "metadata": {
    "colab": {},
    "colab_type": "code",
    "id": "wJeFk0r4mRIe"
   },
   "outputs": [],
   "source": [
    "# File reading and word tokenizing\n",
    "\n",
    "lyrics = open('futureTense.txt', \"r\")\n",
    "x = lyrics.read()\n",
    "lyrics.close()\n",
    "print(x)\n",
    "\n",
    "words = word_tokenize(x)\n",
    "words"
   ]
  },
  {
   "cell_type": "code",
   "execution_count": 0,
   "metadata": {
    "colab": {},
    "colab_type": "code",
    "id": "_GcZQgStmRRu"
   },
   "outputs": [],
   "source": [
    "# Filtering all stopwords and getting the punctuactions\n",
    "\n",
    "wordsFiltered = []\n",
    "stopWords = set(stopwords.words('english'))\n",
    "punctuations = list(string.punctuation)\n",
    "for w in words:\n",
    "    if w not in stopWords and w not in punctuations:\n",
    "        wordsFiltered.append(w)    \n",
    "print(wordsFiltered)\n",
    "\n",
    "# Retired terms\n",
    "\n",
    "terms = set(words)\n",
    "terms = list(terms)"
   ]
  },
  {
   "cell_type": "code",
   "execution_count": 0,
   "metadata": {
    "colab": {},
    "colab_type": "code",
    "id": "mDyZCKyumd8x"
   },
   "outputs": [],
   "source": [
    "# Library to work with url opening\n",
    "\n",
    "import urllib.request\n",
    "response = urllib.request.urlopen('https://www.letras.mus.br/oasis/28995/')\n",
    "html = response.read()\n",
    "print (html)"
   ]
  },
  {
   "cell_type": "code",
   "execution_count": 0,
   "metadata": {
    "colab": {},
    "colab_type": "code",
    "id": "bem4ed_Amd_I"
   },
   "outputs": [],
   "source": [
    "# Library to filter HTML\n",
    "\n",
    "from bs4 import BeautifulSoup \n",
    "import urllib.request \n",
    "response = urllib.request.urlopen('https://www.letras.mus.br/oasis/28995/')\n",
    "\n",
    "html = response.read() \n",
    "soup = BeautifulSoup(html,\"html5lib\") \n",
    "text = soup.get_text(strip=True) \n",
    "tokens = [t for t in text.split()] \n",
    "print (tokens)\n",
    "\n",
    "soup = BeautifulSoup(html, \"lxml\")\n",
    "text = soup.find(id=\"js-lyric-cnt\").text\n",
    "\n",
    "text\n",
    "\n",
    "words = word_tokenize(text)\n",
    "words\n",
    "\n",
    "wordsFiltered = []\n",
    "\n",
    "stopWords = set(stopwords.words('english'))\n",
    "punctuations = list(string.punctuation)\n",
    "for w in words:\n",
    "    if w not in stopWords and w not in punctuations:\n",
    "        wordsFiltered.append(w)    \n",
    "print(wordsFiltered)\n"
   ]
  }
 ],
 "metadata": {
  "colab": {
   "name": "nlp-url-html.ipynb",
   "provenance": []
  },
  "kernelspec": {
   "display_name": "Python 3",
   "language": "python",
   "name": "python3"
  },
  "language_info": {
   "codemirror_mode": {
    "name": "ipython",
    "version": 3
   },
   "file_extension": ".py",
   "mimetype": "text/x-python",
   "name": "python",
   "nbconvert_exporter": "python",
   "pygments_lexer": "ipython3",
   "version": "3.7.0"
  }
 },
 "nbformat": 4,
 "nbformat_minor": 1
}
