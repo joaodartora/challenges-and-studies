{
 "cells": [
  {
   "cell_type": "code",
   "execution_count": 0,
   "metadata": {
    "colab": {},
    "colab_type": "code",
    "id": "e5HUyiTMj0bs"
   },
   "outputs": [],
   "source": [
    "# Reading full file as a single string\n",
    "\n",
    "arc = open('testing.txt', \"r\")\n",
    "x = arc.read()\n",
    "arc.close()\n",
    "x"
   ]
  },
  {
   "cell_type": "code",
   "execution_count": 0,
   "metadata": {
    "colab": {},
    "colab_type": "code",
    "id": "1H-ClbCwkGJc"
   },
   "outputs": [],
   "source": [
    "# Reading full file as a list of strings\n",
    "\n",
    "arc = open('testing.txt', \"r\")\n",
    "x = arc.readlines()\n",
    "arc.close()\n",
    "x"
   ]
  },
  {
   "cell_type": "code",
   "execution_count": 0,
   "metadata": {
    "colab": {},
    "colab_type": "code",
    "id": "TnnAKgAekGN7"
   },
   "outputs": [],
   "source": [
    "# Replacing file contents\n",
    "\n",
    "arc = open('testing.txt', \"w\")\n",
    "arc.write(\"Dartora\")\n",
    "arc.close()"
   ]
  }
 ],
 "metadata": {
  "colab": {
   "collapsed_sections": [],
   "name": "files.ipynb",
   "provenance": []
  },
  "kernelspec": {
   "display_name": "Python 3",
   "language": "python",
   "name": "python3"
  },
  "language_info": {
   "codemirror_mode": {
    "name": "ipython",
    "version": 3
   },
   "file_extension": ".py",
   "mimetype": "text/x-python",
   "name": "python",
   "nbconvert_exporter": "python",
   "pygments_lexer": "ipython3",
   "version": "3.7.0"
  }
 },
 "nbformat": 4,
 "nbformat_minor": 1
}
