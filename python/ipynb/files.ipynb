{
  "nbformat": 4,
  "nbformat_minor": 0,
  "metadata": {
    "colab": {
      "name": "files.ipynb",
      "provenance": [],
      "collapsed_sections": []
    },
    "kernelspec": {
      "name": "python3",
      "display_name": "Python 3"
    }
  },
  "cells": [
    {
      "cell_type": "code",
      "metadata": {
        "id": "e5HUyiTMj0bs",
        "colab_type": "code",
        "colab": {}
      },
      "source": [
        "# Reading full file as a single string\n",
        "\n",
        "arc = open('testing.txt', \"r\")\n",
        "x = arc.read()\n",
        "arc.close()\n",
        "x"
      ],
      "execution_count": 0,
      "outputs": []
    },
    {
      "cell_type": "code",
      "metadata": {
        "id": "1H-ClbCwkGJc",
        "colab_type": "code",
        "colab": {}
      },
      "source": [
        "# Reading full file as a list of strings\n",
        "\n",
        "arc = open('testing.txt', \"r\")\n",
        "x = arc.readlines()\n",
        "arc.close()\n",
        "x"
      ],
      "execution_count": 0,
      "outputs": []
    },
    {
      "cell_type": "code",
      "metadata": {
        "id": "TnnAKgAekGN7",
        "colab_type": "code",
        "colab": {}
      },
      "source": [
        "# Replacing file contents\n",
        "\n",
        "arc = open('testing.txt', \"w\")\n",
        "arc.write(\"Dartora\")\n",
        "arc.close()"
      ],
      "execution_count": 0,
      "outputs": []
    }
  ]
}