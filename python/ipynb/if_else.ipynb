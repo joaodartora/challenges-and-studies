{
 "cells": [
  {
   "cell_type": "code",
   "execution_count": 0,
   "metadata": {
    "colab": {},
    "colab_type": "code",
    "id": "CKeqrCPxceYZ"
   },
   "outputs": [],
   "source": [
    "# Simple If\n",
    "\n",
    "a = int(input(\"Value A: \"))\n",
    "b = int(input(\"Value B: \"))\n",
    "\n",
    "if a > b:\n",
    "    print (\"'A' is bigger!\")\n",
    "if b > a:\n",
    "    print (\"'B' is bigger!\")"
   ]
  },
  {
   "cell_type": "code",
   "execution_count": 0,
   "metadata": {
    "colab": {},
    "colab_type": "code",
    "id": "xXjxUaIoc5SO"
   },
   "outputs": [],
   "source": [
    "# If - Else\n",
    "\n",
    "a = int(input(\"Value A: \"))\n",
    "b = int(input(\"Value B: \"))\n",
    "\n",
    "if a > b:\n",
    "    print (\"'A' is bigger!\")\n",
    "else:\n",
    "    print (\"'B' is bigger!\")"
   ]
  },
  {
   "cell_type": "code",
   "execution_count": 0,
   "metadata": {
    "colab": {},
    "colab_type": "code",
    "id": "Nzrr2hsJc5ce"
   },
   "outputs": [],
   "source": [
    "# Double If - Else\n",
    "\n",
    "a = int(input(\"Value A: \"))\n",
    "b = int(input(\"Value B: \"))\n",
    "\n",
    "if a > b:\n",
    "    print (\"'A' is bigger!\")\n",
    "if b > a:\n",
    "    print (\"'B' is bigger!\")\n",
    "else:\n",
    "    print (\"The values are the same!\")"
   ]
  },
  {
   "cell_type": "code",
   "execution_count": 0,
   "metadata": {
    "colab": {},
    "colab_type": "code",
    "id": "6Law287Rc5e-"
   },
   "outputs": [],
   "source": [
    "#Exercicio If - Else If - Else\n",
    "\n",
    "a = int(input(\"Value A: \"))\n",
    "b = int(input(\"Value B: \"))\n",
    "\n",
    "if a > b:\n",
    "    print (\"'A' is bigger!\")\n",
    "elif b > a:\n",
    "    print (\"'B' is bigger!\")\n",
    "else:\n",
    "    print (\"The values are the same!\")"
   ]
  }
 ],
 "metadata": {
  "colab": {
   "collapsed_sections": [],
   "name": "if-else.ipynb",
   "provenance": []
  },
  "kernelspec": {
   "display_name": "Python 3",
   "language": "python",
   "name": "python3"
  },
  "language_info": {
   "codemirror_mode": {
    "name": "ipython",
    "version": 3
   },
   "file_extension": ".py",
   "mimetype": "text/x-python",
   "name": "python",
   "nbconvert_exporter": "python",
   "pygments_lexer": "ipython3",
   "version": "3.7.0"
  }
 },
 "nbformat": 4,
 "nbformat_minor": 1
}
