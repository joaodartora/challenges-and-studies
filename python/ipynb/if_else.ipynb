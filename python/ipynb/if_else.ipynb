{
  "nbformat": 4,
  "nbformat_minor": 0,
  "metadata": {
    "colab": {
      "name": "if-else.ipynb",
      "provenance": [],
      "collapsed_sections": []
    },
    "kernelspec": {
      "name": "python3",
      "display_name": "Python 3"
    }
  },
  "cells": [
    {
      "cell_type": "code",
      "metadata": {
        "id": "CKeqrCPxceYZ",
        "colab_type": "code",
        "colab": {}
      },
      "source": [
        "# Simple If\n",
        "\n",
        "a = int(input(\"Value A: \"))\n",
        "b = int(input(\"Value B: \"))\n",
        "\n",
        "if a > b:\n",
        "    print (\"'A' is bigger!\")\n",
        "if b > a:\n",
        "    print (\"'B' is bigger!\")"
      ],
      "execution_count": 0,
      "outputs": []
    },
    {
      "cell_type": "code",
      "metadata": {
        "id": "xXjxUaIoc5SO",
        "colab_type": "code",
        "colab": {}
      },
      "source": [
        "# If - Else\n",
        "\n",
        "a = int(input(\"Value A: \"))\n",
        "b = int(input(\"Value B: \"))\n",
        "\n",
        "if a > b:\n",
        "    print (\"'A' is bigger!\")\n",
        "else:\n",
        "    print (\"'B' is bigger!\")"
      ],
      "execution_count": 0,
      "outputs": []
    },
    {
      "cell_type": "code",
      "metadata": {
        "id": "Nzrr2hsJc5ce",
        "colab_type": "code",
        "colab": {}
      },
      "source": [
        "# Double If - Else\n",
        "\n",
        "a = int(input(\"Value A: \"))\n",
        "b = int(input(\"Value B: \"))\n",
        "\n",
        "if a > b:\n",
        "    print (\"'A' is bigger!\")\n",
        "if b > a:\n",
        "    print (\"'B' is bigger!\")\n",
        "else:\n",
        "    print (\"The values are the same!\")"
      ],
      "execution_count": 0,
      "outputs": []
    },
    {
      "cell_type": "code",
      "metadata": {
        "id": "6Law287Rc5e-",
        "colab_type": "code",
        "colab": {}
      },
      "source": [
        "#Exercicio If - Else If - Else\n",
        "\n",
        "a = int(input(\"Value A: \"))\n",
        "b = int(input(\"Value B: \"))\n",
        "\n",
        "if a > b:\n",
        "    print (\"'A' is bigger!\")\n",
        "elif b > a:\n",
        "    print (\"'B' is bigger!\")\n",
        "else:\n",
        "    print (\"The values are the same!\")"
      ],
      "execution_count": 0,
      "outputs": []
    }
  ]
}