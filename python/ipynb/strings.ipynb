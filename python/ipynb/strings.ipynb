{
  "nbformat": 4,
  "nbformat_minor": 0,
  "metadata": {
    "colab": {
      "name": "strings.ipynb",
      "provenance": [],
      "collapsed_sections": []
    },
    "kernelspec": {
      "name": "python3",
      "display_name": "Python 3"
    }
  },
  "cells": [
    {
      "cell_type": "code",
      "metadata": {
        "id": "lMdKF8BWIdA0",
        "colab_type": "code",
        "colab": {}
      },
      "source": [
        "# Printing a position of the string\n",
        "\n",
        "s = \"hello world\"\n",
        "print(s[0])"
      ],
      "execution_count": 0,
      "outputs": []
    },
    {
      "cell_type": "code",
      "metadata": {
        "id": "xINCG1X8Ihxv",
        "colab_type": "code",
        "colab": {}
      },
      "source": [
        "# Replacing a position of the string\n",
        "\n",
        "s[0] = \"a\""
      ],
      "execution_count": 0,
      "outputs": []
    },
    {
      "cell_type": "code",
      "metadata": {
        "id": "ax822QebIh0K",
        "colab_type": "code",
        "colab": {}
      },
      "source": [
        "# Transforming a string into a list\n",
        "\n",
        "l = list(\"hello world\")\n",
        "print (l)"
      ],
      "execution_count": 0,
      "outputs": []
    },
    {
      "cell_type": "code",
      "metadata": {
        "id": "vDytpu3fIh2f",
        "colab_type": "code",
        "colab": {}
      },
      "source": [
        "# Transforming a list of chars into a string, separating with a empty space\n",
        "\n",
        "l = \"\".join(l)\n",
        "print (l)"
      ],
      "execution_count": 0,
      "outputs": []
    },
    {
      "cell_type": "code",
      "metadata": {
        "id": "YvVRxy8VIh43",
        "colab_type": "code",
        "colab": {}
      },
      "source": [
        "# Checking if a string starts with other string\n",
        "\n",
        "name = \"Joao Dartora\"\n",
        "\n",
        "print(name.startswith(\"Joao\"))\n",
        "print(name.startswith(\"Dartora\"))"
      ],
      "execution_count": 0,
      "outputs": []
    },
    {
      "cell_type": "code",
      "metadata": {
        "id": "B6-GcVIxIh-u",
        "colab_type": "code",
        "colab": {}
      },
      "source": [
        "# Changing the case of the entire string\n",
        "\n",
        "phrase = \"How much wood would a woodchuck chuck if a woodchuck could chuck wood?\"\n",
        "\n",
        "print(phrase.lower())\n",
        "print(phrase.upper())"
      ],
      "execution_count": 0,
      "outputs": []
    },
    {
      "cell_type": "code",
      "metadata": {
        "id": "luPsPz2fIuny",
        "colab_type": "code",
        "colab": {}
      },
      "source": [
        "# Check if the string is on the variable\n",
        "\n",
        "\"would\" in phrase"
      ],
      "execution_count": 0,
      "outputs": []
    },
    {
      "cell_type": "code",
      "metadata": {
        "id": "T9nEj1LDIush",
        "colab_type": "code",
        "colab": {}
      },
      "source": [
        "# Check if the string is not on the variable\n",
        "\n",
        "\"chuck\" not in phrase"
      ],
      "execution_count": 0,
      "outputs": []
    },
    {
      "cell_type": "code",
      "metadata": {
        "id": "wiizC3XJIuwo",
        "colab_type": "code",
        "colab": {}
      },
      "source": [
        "# Check if the string is in any part of the variable\n",
        "\n",
        "\"odchuck\" in phrase"
      ],
      "execution_count": 0,
      "outputs": []
    },
    {
      "cell_type": "code",
      "metadata": {
        "id": "jD9pK67GIuuy",
        "colab_type": "code",
        "colab": {}
      },
      "source": [
        "# Check if the string is in any part of the variable, with case sensitive\n",
        "\n",
        "\"odChuck\" in phrase"
      ],
      "execution_count": 0,
      "outputs": []
    },
    {
      "cell_type": "code",
      "metadata": {
        "id": "hCNpvTB2Iuqz",
        "colab_type": "code",
        "colab": {}
      },
      "source": [
        "# Count the number of elements inside a string\n",
        "\n",
        "tongueTwister = \"Can you can a can as a canner can can a can?\"\n",
        "\n",
        "print(tongueTwister.count(\"canner\"))\n",
        "print(tongueTwister.count(\"can\"))\n",
        "print(tongueTwister.count(\"tiger\"))"
      ],
      "execution_count": 0,
      "outputs": []
    },
    {
      "cell_type": "code",
      "metadata": {
        "id": "Guf2A6ESI3JF",
        "colab_type": "code",
        "colab": {}
      },
      "source": [
        "# Finds the first incidence of the sought element\n",
        "\n",
        "f = \"hello world\"\n",
        "f.find(\"ll\")"
      ],
      "execution_count": 0,
      "outputs": []
    },
    {
      "cell_type": "code",
      "metadata": {
        "id": "hYaLGW_vI3Lr",
        "colab_type": "code",
        "colab": {}
      },
      "source": [
        "# If not find, returns -1\n",
        "\n",
        "f.find(\"ok\")"
      ],
      "execution_count": 0,
      "outputs": []
    },
    {
      "cell_type": "code",
      "metadata": {
        "id": "IexCyjFfI3Op",
        "colab_type": "code",
        "colab": {}
      },
      "source": [
        "# Find rightmost element\n",
        "\n",
        "s = \"hello world\"\n",
        "s.rfind(\"d\")"
      ],
      "execution_count": 0,
      "outputs": []
    },
    {
      "cell_type": "code",
      "metadata": {
        "id": "5KK_N3EoJAk3",
        "colab_type": "code",
        "colab": {}
      },
      "source": [
        "# Search substring from index\n",
        "\n",
        "tongueTwister = \"Can you can a can as a canner can can a can?\"\n",
        "tongueTwister.find(\"can\",9)"
      ],
      "execution_count": 0,
      "outputs": []
    },
    {
      "cell_type": "code",
      "metadata": {
        "id": "2u9eGjIIJA0t",
        "colab_type": "code",
        "colab": {}
      },
      "source": [
        "# Search substring in a interval\n",
        "\n",
        "tongueTwister.find(\"canner\",0,42)"
      ],
      "execution_count": 0,
      "outputs": []
    }
  ]
}