{
 "cells": [
  {
   "cell_type": "code",
   "execution_count": 0,
   "metadata": {
    "colab": {},
    "colab_type": "code",
    "id": "lMdKF8BWIdA0"
   },
   "outputs": [],
   "source": [
    "# Printing a position of the string\n",
    "\n",
    "s = \"hello world\"\n",
    "print(s[0])"
   ]
  },
  {
   "cell_type": "code",
   "execution_count": 0,
   "metadata": {
    "colab": {},
    "colab_type": "code",
    "id": "xINCG1X8Ihxv"
   },
   "outputs": [],
   "source": [
    "# Replacing a position of the string\n",
    "\n",
    "s[0] = \"a\""
   ]
  },
  {
   "cell_type": "code",
   "execution_count": 0,
   "metadata": {
    "colab": {},
    "colab_type": "code",
    "id": "ax822QebIh0K"
   },
   "outputs": [],
   "source": [
    "# Transforming a string into a list\n",
    "\n",
    "l = list(\"hello world\")\n",
    "print (l)"
   ]
  },
  {
   "cell_type": "code",
   "execution_count": 0,
   "metadata": {
    "colab": {},
    "colab_type": "code",
    "id": "vDytpu3fIh2f"
   },
   "outputs": [],
   "source": [
    "# Transforming a list of chars into a string, separating with a empty space\n",
    "\n",
    "l = \"\".join(l)\n",
    "print (l)"
   ]
  },
  {
   "cell_type": "code",
   "execution_count": 0,
   "metadata": {
    "colab": {},
    "colab_type": "code",
    "id": "YvVRxy8VIh43"
   },
   "outputs": [],
   "source": [
    "# Checking if a string starts with other string\n",
    "\n",
    "name = \"Joao Dartora\"\n",
    "\n",
    "print(name.startswith(\"Joao\"))\n",
    "print(name.startswith(\"Dartora\"))"
   ]
  },
  {
   "cell_type": "code",
   "execution_count": 0,
   "metadata": {
    "colab": {},
    "colab_type": "code",
    "id": "B6-GcVIxIh-u"
   },
   "outputs": [],
   "source": [
    "# Changing the case of the entire string\n",
    "\n",
    "phrase = \"How much wood would a woodchuck chuck if a woodchuck could chuck wood?\"\n",
    "\n",
    "print(phrase.lower())\n",
    "print(phrase.upper())"
   ]
  },
  {
   "cell_type": "code",
   "execution_count": 0,
   "metadata": {
    "colab": {},
    "colab_type": "code",
    "id": "luPsPz2fIuny"
   },
   "outputs": [],
   "source": [
    "# Check if the string is on the variable\n",
    "\n",
    "\"would\" in phrase"
   ]
  },
  {
   "cell_type": "code",
   "execution_count": 0,
   "metadata": {
    "colab": {},
    "colab_type": "code",
    "id": "T9nEj1LDIush"
   },
   "outputs": [],
   "source": [
    "# Check if the string is not on the variable\n",
    "\n",
    "\"chuck\" not in phrase"
   ]
  },
  {
   "cell_type": "code",
   "execution_count": 0,
   "metadata": {
    "colab": {},
    "colab_type": "code",
    "id": "wiizC3XJIuwo"
   },
   "outputs": [],
   "source": [
    "# Check if the string is in any part of the variable\n",
    "\n",
    "\"odchuck\" in phrase"
   ]
  },
  {
   "cell_type": "code",
   "execution_count": 0,
   "metadata": {
    "colab": {},
    "colab_type": "code",
    "id": "jD9pK67GIuuy"
   },
   "outputs": [],
   "source": [
    "# Check if the string is in any part of the variable, with case sensitive\n",
    "\n",
    "\"odChuck\" in phrase"
   ]
  },
  {
   "cell_type": "code",
   "execution_count": 0,
   "metadata": {
    "colab": {},
    "colab_type": "code",
    "id": "hCNpvTB2Iuqz"
   },
   "outputs": [],
   "source": [
    "# Count the number of elements inside a string\n",
    "\n",
    "tongueTwister = \"Can you can a can as a canner can can a can?\"\n",
    "\n",
    "print(tongueTwister.count(\"canner\"))\n",
    "print(tongueTwister.count(\"can\"))\n",
    "print(tongueTwister.count(\"tiger\"))"
   ]
  },
  {
   "cell_type": "code",
   "execution_count": 0,
   "metadata": {
    "colab": {},
    "colab_type": "code",
    "id": "Guf2A6ESI3JF"
   },
   "outputs": [],
   "source": [
    "# Finds the first incidence of the sought element\n",
    "\n",
    "f = \"hello world\"\n",
    "f.find(\"ll\")"
   ]
  },
  {
   "cell_type": "code",
   "execution_count": 0,
   "metadata": {
    "colab": {},
    "colab_type": "code",
    "id": "hYaLGW_vI3Lr"
   },
   "outputs": [],
   "source": [
    "# If not find, returns -1\n",
    "\n",
    "f.find(\"ok\")"
   ]
  },
  {
   "cell_type": "code",
   "execution_count": 0,
   "metadata": {
    "colab": {},
    "colab_type": "code",
    "id": "IexCyjFfI3Op"
   },
   "outputs": [],
   "source": [
    "# Find rightmost element\n",
    "\n",
    "s = \"hello world\"\n",
    "s.rfind(\"d\")"
   ]
  },
  {
   "cell_type": "code",
   "execution_count": 0,
   "metadata": {
    "colab": {},
    "colab_type": "code",
    "id": "5KK_N3EoJAk3"
   },
   "outputs": [],
   "source": [
    "# Search substring from index\n",
    "\n",
    "tongueTwister = \"Can you can a can as a canner can can a can?\"\n",
    "tongueTwister.find(\"can\",9)"
   ]
  },
  {
   "cell_type": "code",
   "execution_count": 0,
   "metadata": {
    "colab": {},
    "colab_type": "code",
    "id": "2u9eGjIIJA0t"
   },
   "outputs": [],
   "source": [
    "# Search substring in a interval\n",
    "\n",
    "tongueTwister.find(\"canner\",0,42)"
   ]
  }
 ],
 "metadata": {
  "colab": {
   "collapsed_sections": [],
   "name": "strings.ipynb",
   "provenance": []
  },
  "kernelspec": {
   "display_name": "Python 3",
   "language": "python",
   "name": "python3"
  },
  "language_info": {
   "codemirror_mode": {
    "name": "ipython",
    "version": 3
   },
   "file_extension": ".py",
   "mimetype": "text/x-python",
   "name": "python",
   "nbconvert_exporter": "python",
   "pygments_lexer": "ipython3",
   "version": "3.7.0"
  }
 },
 "nbformat": 4,
 "nbformat_minor": 1
}
