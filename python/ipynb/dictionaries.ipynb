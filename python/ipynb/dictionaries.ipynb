{
 "cells": [
  {
   "cell_type": "code",
   "execution_count": 0,
   "metadata": {},
   "outputs": [],
   "source": [
    "# Assign values to the table dictionary\n",
    "\n",
    "table = { \"Lettuce\": 0.45,\n",
    "           \"Potato\": 1.20,\n",
    "           \"Tomato\": 2.30,\n",
    "           \"Bean\": 1.50}\n",
    "print(table)"
   ]
  },
  {
   "cell_type": "code",
   "execution_count": 0,
   "metadata": {},
   "outputs": [],
   "source": [
    "# Search for value in brackets\n",
    "\n",
    "table[\"Lettuce\"]"
   ]
  },
  {
   "cell_type": "code",
   "execution_count": 0,
   "metadata": {},
   "outputs": [],
   "source": [
    "# Prints the value atribbuted to the key\n",
    "\n",
    "print(table[\"Tomato\"])"
   ]
  },
  {
   "cell_type": "code",
   "execution_count": 0,
   "metadata": {},
   "outputs": [],
   "source": [
    "# Changing key value\n",
    "\n",
    "table[\"Tomato\"] = 2.50\n",
    "print (table)"
   ]
  },
  {
   "cell_type": "code",
   "execution_count": 0,
   "metadata": {},
   "outputs": [],
   "source": [
    "# Concatenate element in dictionary\n",
    "\n",
    "table[\"Banana\"] = 0.90\n",
    "print(table)"
   ]
  },
  {
   "cell_type": "code",
   "execution_count": 0,
   "metadata": {},
   "outputs": [],
   "source": [
    "# If element does not exist, prints error\n",
    "\n",
    "print(table[\"Mango\"])"
   ]
  },
  {
   "cell_type": "code",
   "execution_count": 0,
   "metadata": {},
   "outputs": [],
   "source": [
    "# Search if an element is inside dictionary\n",
    "\n",
    "print (\"Tomato\" in table)\n",
    "print (\"Mango\" in table)"
   ]
  },
  {
   "cell_type": "code",
   "execution_count": 0,
   "metadata": {
    "colab": {},
    "colab_type": "code",
    "id": "T2p9EQtwDEj_"
   },
   "outputs": [],
   "source": [
    "# Search if an element is not inside dictionary\n",
    "\n",
    "print (\"Tomato\" not in table)\n",
    "print (\"Mango\" not in table)"
   ]
  },
  {
   "cell_type": "code",
   "execution_count": 0,
   "metadata": {
    "colab": {},
    "colab_type": "code",
    "id": "0gmMWi9ZDEmC"
   },
   "outputs": [],
   "source": [
    "# Prints every key in dictionary\n",
    "\n",
    "print (table.keys())"
   ]
  },
  {
   "cell_type": "code",
   "execution_count": 0,
   "metadata": {
    "colab": {},
    "colab_type": "code",
    "id": "eMz4B1XTDRak"
   },
   "outputs": [],
   "source": [
    "# Prints every value in dictionary\n",
    "\n",
    "print (table.values())"
   ]
  },
  {
   "cell_type": "code",
   "execution_count": 0,
   "metadata": {
    "colab": {},
    "colab_type": "code",
    "id": "FOF7Ge5aDRes"
   },
   "outputs": [],
   "source": [
    "# Example to check if a value is inside the dictionary\n",
    "\n",
    "while True:\n",
    "    product = input(\"Enter the name of the product. Enter 'end' to end\")\n",
    "    if product.lower() == 'end':\n",
    "                    break\n",
    "    if product in table:\n",
    "                    print (\"Price %5.2f\" % table[product])\n",
    "                    break\n",
    "    if product not in table:\n",
    "                    include = input (\"Product not found, would you like to include? Yes or no\")\n",
    "                    if include.lower() == \"yes\":\n",
    "                        productValue = input(\"What is the value of the product?\")\n",
    "                        table[product] = productValue\n",
    "                    else:\n",
    "                        break\n",
    "    else:\n",
    "                    print (\"Product not found!\")"
   ]
  },
  {
   "cell_type": "code",
   "execution_count": 0,
   "metadata": {
    "colab": {},
    "colab_type": "code",
    "id": "2i_PysiMDRgd"
   },
   "outputs": [],
   "source": [
    "# Delete element from dictionary\n",
    " \n",
    "del table[\"Tomato\"]\n",
    "print(table)"
   ]
  },
  {
   "cell_type": "code",
   "execution_count": 0,
   "metadata": {
    "colab": {},
    "colab_type": "code",
    "id": "6X5CxbSzDeiB"
   },
   "outputs": [],
   "source": [
    "# Example of multivalued dictionary\n",
    "\n",
    "stock = { \"Lettuce\": [1000,0.45],\n",
    "           \"Potato\": [750,1.20],\n",
    "           \"Tomato\": [500,2.30],\n",
    "           \"Bean\": [1500,1.50]}\n",
    "print(stock)"
   ]
  },
  {
   "cell_type": "code",
   "execution_count": 0,
   "metadata": {
    "colab": {},
    "colab_type": "code",
    "id": "qt8Jt7ZuDe9x"
   },
   "outputs": [],
   "source": [
    "# Printing multivalued dictionary keys\n",
    "\n",
    "print(stock.keys())"
   ]
  },
  {
   "cell_type": "code",
   "execution_count": 0,
   "metadata": {
    "colab": {},
    "colab_type": "code",
    "id": "-hCMktQiDfAL"
   },
   "outputs": [],
   "source": [
    "# Printing multivalued dictionary values\n",
    "\n",
    "print(stock.values())"
   ]
  }
 ],
 "metadata": {
  "celltoolbar": "Edit Metadata",
  "colab": {
   "name": "dictionaries.ipynb",
   "provenance": []
  },
  "kernelspec": {
   "display_name": "Python 3",
   "language": "python",
   "name": "python3"
  },
  "language_info": {
   "codemirror_mode": {
    "name": "ipython",
    "version": 3
   },
   "file_extension": ".py",
   "mimetype": "text/x-python",
   "name": "python",
   "nbconvert_exporter": "python",
   "pygments_lexer": "ipython3",
   "version": "3.7.0"
  }
 },
 "nbformat": 4,
 "nbformat_minor": 1
}
