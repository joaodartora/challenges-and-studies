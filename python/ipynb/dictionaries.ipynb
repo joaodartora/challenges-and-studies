{
  "nbformat": 4,
  "nbformat_minor": 0,
  "metadata": {
    "colab": {
      "name": "dictionaries.ipynb",
      "provenance": []
    },
    "kernelspec": {
      "name": "python3",
      "display_name": "Python 3"
    }
  },
  "cells": [
    {
      "cell_type": "code",
      "metadata": {
        "id": "JmlUv6IOC_6f",
        "colab_type": "code",
        "colab": {}
      },
      "source": [
        "# Assign values to the table dictionary\n",
        "\n",
        "table = { \"Lettuce\": 0.45,\n",
        "           \"Potato\": 1.20,\n",
        "           \"Tomato\": 2.30,\n",
        "           \"Bean\": 1.50}\n",
        "print(table)"
      ],
      "execution_count": 0,
      "outputs": []
    },
    {
      "cell_type": "code",
      "metadata": {
        "id": "iJCXkB9ADEXN",
        "colab_type": "code",
        "colab": {}
      },
      "source": [
        "# Search for value in brackets\n",
        "\n",
        "table[\"Lettuce\"]"
      ],
      "execution_count": 0,
      "outputs": []
    },
    {
      "cell_type": "code",
      "metadata": {
        "id": "jEk6v-rADEZp",
        "colab_type": "code",
        "colab": {}
      },
      "source": [
        "# Prints the value atribbuted to the key\n",
        "\n",
        "print(table[\"Tomato\"])"
      ],
      "execution_count": 0,
      "outputs": []
    },
    {
      "cell_type": "code",
      "metadata": {
        "id": "dSIKDrisDEbn",
        "colab_type": "code",
        "colab": {}
      },
      "source": [
        "# Changing key value\n",
        "\n",
        "table[\"Tomato\"] = 2.50\n",
        "print (table)"
      ],
      "execution_count": 0,
      "outputs": []
    },
    {
      "cell_type": "code",
      "metadata": {
        "id": "wIaCgVZQDEdz",
        "colab_type": "code",
        "colab": {}
      },
      "source": [
        "# Concatenate element in dictionary\n",
        "\n",
        "table[\"Banana\"] = 0.90\n",
        "print(table)"
      ],
      "execution_count": 0,
      "outputs": []
    },
    {
      "cell_type": "code",
      "metadata": {
        "id": "83CJWiO-DEf7",
        "colab_type": "code",
        "colab": {}
      },
      "source": [
        "# If element does not exist, prints error\n",
        "\n",
        "print(table[\"Mango\"])"
      ],
      "execution_count": 0,
      "outputs": []
    },
    {
      "cell_type": "code",
      "metadata": {
        "id": "LPq20eLIDEiH",
        "colab_type": "code",
        "colab": {}
      },
      "source": [
        "# Search if an element is inside dictionary\n",
        "\n",
        "print (\"Tomato\" in table)\n",
        "print (\"Mango\" in table)"
      ],
      "execution_count": 0,
      "outputs": []
    },
    {
      "cell_type": "code",
      "metadata": {
        "id": "T2p9EQtwDEj_",
        "colab_type": "code",
        "colab": {}
      },
      "source": [
        "# Search if an element is not inside dictionary\n",
        "\n",
        "print (\"Tomato\" not in table)\n",
        "print (\"Mango\" not in table)"
      ],
      "execution_count": 0,
      "outputs": []
    },
    {
      "cell_type": "code",
      "metadata": {
        "id": "0gmMWi9ZDEmC",
        "colab_type": "code",
        "colab": {}
      },
      "source": [
        "# Prints every key in dictionary\n",
        "\n",
        "print (table.keys())"
      ],
      "execution_count": 0,
      "outputs": []
    },
    {
      "cell_type": "code",
      "metadata": {
        "id": "eMz4B1XTDRak",
        "colab_type": "code",
        "colab": {}
      },
      "source": [
        "# Prints every value in dictionary\n",
        "\n",
        "print (table.values())"
      ],
      "execution_count": 0,
      "outputs": []
    },
    {
      "cell_type": "code",
      "metadata": {
        "id": "FOF7Ge5aDRes",
        "colab_type": "code",
        "colab": {}
      },
      "source": [
        "# Example to check if a value is inside the dictionary\n",
        "\n",
        "while True:\n",
        "    product = input(\"Enter the name of the product. Enter 'end' to end\")\n",
        "    if product.lower() == 'end':\n",
        "                    break\n",
        "    if product in table:\n",
        "                    print (\"Price %5.2f\" % table[product])\n",
        "                    break\n",
        "    if product not in table:\n",
        "                    include = input (\"Product not found, would you like to include? Yes or no\")\n",
        "                    if include.lower() == \"yes\":\n",
        "                        productValue = input(\"What is the value of the product?\")\n",
        "                        table[product] = productValue\n",
        "                    else:\n",
        "                        break\n",
        "    else:\n",
        "                    print (\"Product not found!\")"
      ],
      "execution_count": 0,
      "outputs": []
    },
    {
      "cell_type": "code",
      "metadata": {
        "id": "2i_PysiMDRgd",
        "colab_type": "code",
        "colab": {}
      },
      "source": [
        "# Delete element from dictionary\n",
        " \n",
        "del table[\"Tomato\"]\n",
        "print(table)"
      ],
      "execution_count": 0,
      "outputs": []
    },
    {
      "cell_type": "code",
      "metadata": {
        "id": "6X5CxbSzDeiB",
        "colab_type": "code",
        "colab": {}
      },
      "source": [
        "# Example of multivalued dictionary\n",
        "\n",
        "stock = { \"Lettuce\": [1000,0.45],\n",
        "           \"Potato\": [750,1.20],\n",
        "           \"Tomato\": [500,2.30],\n",
        "           \"Bean\": [1500,1.50]}\n",
        "print(stock)"
      ],
      "execution_count": 0,
      "outputs": []
    },
    {
      "cell_type": "code",
      "metadata": {
        "id": "qt8Jt7ZuDe9x",
        "colab_type": "code",
        "colab": {}
      },
      "source": [
        "# Printing multivalued dictionary keys\n",
        "\n",
        "print(stock.keys())"
      ],
      "execution_count": 0,
      "outputs": []
    },
    {
      "cell_type": "code",
      "metadata": {
        "id": "-hCMktQiDfAL",
        "colab_type": "code",
        "colab": {}
      },
      "source": [
        "# Printing multivalued dictionary values\n",
        "\n",
        "print(stock.values())"
      ],
      "execution_count": 0,
      "outputs": []
    }
  ]
}