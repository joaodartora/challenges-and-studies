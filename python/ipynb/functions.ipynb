{
 "cells": [
  {
   "cell_type": "code",
   "execution_count": 0,
   "metadata": {
    "colab": {},
    "colab_type": "code",
    "id": "sxdf8uvDEZBu"
   },
   "outputs": [],
   "source": [
    "# Simple function to print the sum of 2 numbers\n",
    "\n",
    "def simple_sum(a,b):\n",
    "    print(a + b)\n",
    "    \n",
    "simple_sum(2,9)\n",
    "simple_sum(7,8)\n",
    "simple_sum(10,15)"
   ]
  },
  {
   "cell_type": "code",
   "execution_count": 0,
   "metadata": {
    "colab": {},
    "colab_type": "code",
    "id": "U4FfQwseEo14"
   },
   "outputs": [],
   "source": [
    "# Simple function to sum 2 numbers\n",
    "\n",
    "def simple_sum(a,b):\n",
    "    return(a + b)\n",
    "\n",
    "print(simple_sum(2,9))"
   ]
  },
  {
   "cell_type": "code",
   "execution_count": 0,
   "metadata": {
    "colab": {},
    "colab_type": "code",
    "id": "Wss8iMGHEo3i"
   },
   "outputs": [],
   "source": [
    "# Function to verify if a number is pair\n",
    "\n",
    "def is_pair(x):\n",
    "    return (x % 2 == 0)\n",
    "  \n",
    "print(is_pair(2))\n",
    "print(is_pair(3))"
   ]
  },
  {
   "cell_type": "code",
   "execution_count": 0,
   "metadata": {
    "colab": {},
    "colab_type": "code",
    "id": "BA_g9eWdEo5s"
   },
   "outputs": [],
   "source": [
    "# Using a function inside another function\n",
    "\n",
    "def is_pair(x):\n",
    "    return (x % 2 == 0)\n",
    "\n",
    "def even_or_odd(x):\n",
    "    if is_pair(x):\n",
    "        return \"pair\"\n",
    "    else:\n",
    "        return \"odd\"\n",
    "      \n",
    "print(even_or_odd(4))\n",
    "print(even_or_odd(5))"
   ]
  },
  {
   "cell_type": "code",
   "execution_count": 0,
   "metadata": {
    "colab": {},
    "colab_type": "code",
    "id": "8k5ArbA8Eo71"
   },
   "outputs": [],
   "source": [
    "# Function to search for a value into a list\n",
    "\n",
    "def search(list, value):\n",
    "    for x,e in enumerate(list):\n",
    "        if e == value:\n",
    "            return x\n",
    "    return None\n",
    "    \n",
    "L = [10,20,25,30]\n",
    "\n",
    "print(search(L,25))\n",
    "print(search(L,27))\n"
   ]
  },
  {
   "cell_type": "code",
   "execution_count": 0,
   "metadata": {
    "colab": {},
    "colab_type": "code",
    "id": "7259a2uKEo93"
   },
   "outputs": [],
   "source": [
    "# Function to calculate the mean of all elements on a list\n",
    "\n",
    "L = [10,20,25,30]\n",
    "def simple_sum(L):\n",
    "    total = 0\n",
    "    for e in L:\n",
    "        total += e\n",
    "        return total\n",
    "      \n",
    "def mean(L):\n",
    "    return (simple_sum(L) / len(L))\n",
    "\n",
    "print(mean(L))"
   ]
  },
  {
   "cell_type": "code",
   "execution_count": 0,
   "metadata": {
    "colab": {},
    "colab_type": "code",
    "id": "-FRX0GtPEo_9"
   },
   "outputs": [],
   "source": [
    "# Function to print traces below the name of the course\n",
    "\n",
    "course = \"biomedical informatics\"\n",
    "def print_course():\n",
    "    print(course)\n",
    "    print(\"-\" * len(course))\n",
    "print_course()"
   ]
  },
  {
   "cell_type": "code",
   "execution_count": 0,
   "metadata": {
    "colab": {},
    "colab_type": "code",
    "id": "JpTCY2fPEpCD"
   },
   "outputs": [],
   "source": [
    "# Function to change a value locally on a function\n",
    "\n",
    "a = 5\n",
    "\n",
    "def change_and_print():\n",
    "    a = 7\n",
    "    print (\"'A' inside function: %d\" %a)\n",
    "    \n",
    "print (\"'A' before changing: %d\" %a)\n",
    "change_and_print()\n",
    "print (\"'A' after changing: %d\" %a)"
   ]
  },
  {
   "cell_type": "code",
   "execution_count": 0,
   "metadata": {
    "colab": {},
    "colab_type": "code",
    "id": "2WXQzyqpEpEG"
   },
   "outputs": [],
   "source": [
    "# Function to change a value globally on a function\n",
    "\n",
    "a = 5\n",
    "def change_and_print():\n",
    "    global a\n",
    "    a = 7\n",
    "    print (\"'A' inside function: %d\" %a)\n",
    "    \n",
    "print (\"'A' before changing: %d\" %a)\n",
    "change_and_print()\n",
    "print (\"'A' after changing: %d\" %a)"
   ]
  },
  {
   "cell_type": "code",
   "execution_count": 0,
   "metadata": {
    "colab": {},
    "colab_type": "code",
    "id": "w65DJmS2EpGV"
   },
   "outputs": [],
   "source": [
    "# Function to print the factorial of a number\n",
    "\n",
    "def factorial(n):\n",
    "    if n == 0 or n == 1:\n",
    "        return 1\n",
    "    else:\n",
    "        return n * factorial(n - 1)\n",
    "    \n",
    "print(factorial(5))"
   ]
  },
  {
   "cell_type": "code",
   "execution_count": 0,
   "metadata": {
    "colab": {},
    "colab_type": "code",
    "id": "f22FbzdfEpIs"
   },
   "outputs": [],
   "source": [
    "# Function passing default parameters\n",
    "\n",
    "def trace(n = 40, character = \"-\"):\n",
    "    print(character * n)\n",
    "    \n",
    "trace()\n",
    "trace(character = \"*\")\n",
    "trace(10)\n",
    "trace(character = \"?\")"
   ]
  },
  {
   "cell_type": "code",
   "execution_count": 0,
   "metadata": {
    "colab": {},
    "colab_type": "code",
    "id": "yh5ibGQdE3pX"
   },
   "outputs": [],
   "source": [
    "# Packing parameters\n",
    "\n",
    "def simple_sum(a,b):\n",
    "    print(a + b)\n",
    "    \n",
    "L = [2,3]\n",
    "simple_sum(*L)"
   ]
  },
  {
   "cell_type": "code",
   "execution_count": 0,
   "metadata": {
    "colab": {},
    "colab_type": "code",
    "id": "57n54IRaE3rp"
   },
   "outputs": [],
   "source": [
    "# Unpacking parameters\n",
    "\n",
    "def simple_sum(*args):\n",
    "    s = 0\n",
    "    for x in args:\n",
    "        s += x\n",
    "        return s\n",
    "print(simple_sum(1,2))\n",
    "print(simple_sum(2))\n",
    "print(simple_sum(5,6,7,8))\n",
    "print(simple_sum(9,10,20,30,40))"
   ]
  }
 ],
 "metadata": {
  "colab": {
   "name": "functions.ipynb",
   "provenance": []
  },
  "kernelspec": {
   "display_name": "Python 3",
   "language": "python",
   "name": "python3"
  },
  "language_info": {
   "codemirror_mode": {
    "name": "ipython",
    "version": 3
   },
   "file_extension": ".py",
   "mimetype": "text/x-python",
   "name": "python",
   "nbconvert_exporter": "python",
   "pygments_lexer": "ipython3",
   "version": "3.7.0"
  }
 },
 "nbformat": 4,
 "nbformat_minor": 1
}
