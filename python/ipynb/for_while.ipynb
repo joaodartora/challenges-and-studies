{
 "cells": [
  {
   "cell_type": "code",
   "execution_count": 0,
   "metadata": {
    "colab": {},
    "colab_type": "code",
    "id": "OBv3INgSeWoz"
   },
   "outputs": [],
   "source": [
    "# Basic For\n",
    "\n",
    "for n in range(1, 10+1):\n",
    "    print (n)"
   ]
  },
  {
   "cell_type": "code",
   "execution_count": 0,
   "metadata": {
    "colab": {},
    "colab_type": "code",
    "id": "Oe8Z9YMKeDcf"
   },
   "outputs": [],
   "source": [
    "# Basic While\n",
    "\n",
    "x = 1\n",
    "while x <= 3:\n",
    "    print(x)\n",
    "    x += 1"
   ]
  },
  {
   "cell_type": "code",
   "execution_count": 0,
   "metadata": {
    "colab": {},
    "colab_type": "code",
    "id": "dkXzIFcoeF7s"
   },
   "outputs": [],
   "source": [
    "# Basic While\n",
    "\n",
    "x = 10\n",
    "while x > 0:\n",
    "    print(x)\n",
    "    x -= 1"
   ]
  },
  {
   "cell_type": "code",
   "execution_count": 0,
   "metadata": {
    "colab": {},
    "colab_type": "code",
    "id": "hIHSaqiYeGDO"
   },
   "outputs": [],
   "source": [
    "# While with break\n",
    "\n",
    "x = 1\n",
    "while x > 0:\n",
    "    x = int(input(\"Enter a value: \"))\n",
    "    if x == 1:\n",
    "        break"
   ]
  },
  {
   "cell_type": "code",
   "execution_count": 0,
   "metadata": {
    "colab": {},
    "colab_type": "code",
    "id": "c1JxfdnweGFu"
   },
   "outputs": [],
   "source": [
    "# While with if\n",
    "\n",
    "x = 1\n",
    "total = 0\n",
    "while x > 0:\n",
    "    x = int(input(\"Enter a value: \"))\n",
    "    if x < 10:\n",
    "        total = (x+total)\n",
    "print(\"The sum of the values of X is %d\" %total)"
   ]
  },
  {
   "cell_type": "code",
   "execution_count": 0,
   "metadata": {
    "colab": {},
    "colab_type": "code",
    "id": "MuVp1dXReGH1"
   },
   "outputs": [],
   "source": [
    "# While with break and continue\n",
    "\n",
    "x = 1\n",
    "total = 0\n",
    "while x > 0:\n",
    "    x = int(input(\"Enter a value: \"))\n",
    "    if x == 1:\n",
    "        break\n",
    "    if x < 10:\n",
    "        continue\n",
    "print(\"The sum of the values of X is %d\" %total)"
   ]
  }
 ],
 "metadata": {
  "colab": {
   "name": "for-while.ipynb",
   "provenance": []
  },
  "kernelspec": {
   "display_name": "Python 3",
   "language": "python",
   "name": "python3"
  },
  "language_info": {
   "codemirror_mode": {
    "name": "ipython",
    "version": 3
   },
   "file_extension": ".py",
   "mimetype": "text/x-python",
   "name": "python",
   "nbconvert_exporter": "python",
   "pygments_lexer": "ipython3",
   "version": "3.7.0"
  }
 },
 "nbformat": 4,
 "nbformat_minor": 1
}
