{
  "nbformat": 4,
  "nbformat_minor": 0,
  "metadata": {
    "colab": {
      "name": "for-while.ipynb",
      "provenance": []
    },
    "kernelspec": {
      "name": "python3",
      "display_name": "Python 3"
    }
  },
  "cells": [
    {
      "cell_type": "code",
      "metadata": {
        "id": "OBv3INgSeWoz",
        "colab_type": "code",
        "colab": {}
      },
      "source": [
        "# Basic For\n",
        "\n",
        "for n in range(1, 10+1):\n",
        "    print (n)"
      ],
      "execution_count": 0,
      "outputs": []
    },
    {
      "cell_type": "code",
      "metadata": {
        "id": "Oe8Z9YMKeDcf",
        "colab_type": "code",
        "colab": {}
      },
      "source": [
        "# Basic While\n",
        "\n",
        "x = 1\n",
        "while x <= 3:\n",
        "    print(x)\n",
        "    x += 1"
      ],
      "execution_count": 0,
      "outputs": []
    },
    {
      "cell_type": "code",
      "metadata": {
        "id": "dkXzIFcoeF7s",
        "colab_type": "code",
        "colab": {}
      },
      "source": [
        "# Basic While\n",
        "\n",
        "x = 10\n",
        "while x > 0:\n",
        "    print(x)\n",
        "    x -= 1"
      ],
      "execution_count": 0,
      "outputs": []
    },
    {
      "cell_type": "code",
      "metadata": {
        "id": "hIHSaqiYeGDO",
        "colab_type": "code",
        "colab": {}
      },
      "source": [
        "# While with break\n",
        "\n",
        "x = 1\n",
        "while x > 0:\n",
        "    x = int(input(\"Enter a value: \"))\n",
        "    if x == 1:\n",
        "        break"
      ],
      "execution_count": 0,
      "outputs": []
    },
    {
      "cell_type": "code",
      "metadata": {
        "id": "c1JxfdnweGFu",
        "colab_type": "code",
        "colab": {}
      },
      "source": [
        "# While with if\n",
        "\n",
        "x = 1\n",
        "total = 0\n",
        "while x > 0:\n",
        "    x = int(input(\"Enter a value: \"))\n",
        "    if x < 10:\n",
        "        total = (x+total)\n",
        "print(\"The sum of the values of X is %d\" %total)"
      ],
      "execution_count": 0,
      "outputs": []
    },
    {
      "cell_type": "code",
      "metadata": {
        "id": "MuVp1dXReGH1",
        "colab_type": "code",
        "colab": {}
      },
      "source": [
        "# While with break and continue\n",
        "\n",
        "x = 1\n",
        "total = 0\n",
        "while x > 0:\n",
        "    x = int(input(\"Enter a value: \"))\n",
        "    if x == 1:\n",
        "        break\n",
        "    if x < 10:\n",
        "        continue\n",
        "print(\"The sum of the values of X is %d\" %total)"
      ],
      "execution_count": 0,
      "outputs": []
    }
  ]
}